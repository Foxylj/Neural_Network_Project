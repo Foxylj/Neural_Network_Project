{
 "cells": [
  {
   "attachments": {},
   "cell_type": "markdown",
   "metadata": {},
   "source": [
    "# Q Learning Demo"
   ]
  },
  {
   "cell_type": "code",
   "execution_count": 1,
   "metadata": {},
   "outputs": [],
   "source": [
    "import numpy as np\n",
    "import pandas as pd\n",
    "import time\n",
    "\n",
    "np.random.seed(2)\n",
    "\n",
    "N_STATES=6                  # The length of 1 dimensional world\n",
    "ACTIONS=['left','right']    # Available actions\n",
    "EPSILON=0.9                 # Greedy policy \n",
    "ALPHA=0.1                   # Learning rate\n",
    "LAMBDA=0.9                  # Discount factor\n",
    "MAX_EPISODES=13             # Maximum episodes\n",
    "FRESH_TIME=0.1             # Fresh time for one move"
   ]
  },
  {
   "cell_type": "code",
   "execution_count": 2,
   "metadata": {},
   "outputs": [],
   "source": [
    "def build_q_table(n_states, actions): # Create a Q table\n",
    "    table=pd.DataFrame(np.zeros((n_states,len(actions))),columns=actions)\n",
    "    return table\n",
    "\n",
    "def choose_action(state,q_table):\n",
    "    state_actions=q_table.iloc[state,:]\n",
    "    if (np.random.uniform()>EPSILON) or (state_actions.all()==0):   # Act non greedy\n",
    "        action_name=np.random.choice(ACTIONS)\n",
    "    else:                                                           # Act greedy\n",
    "        action_name=state_actions.argmax()\n",
    "    return action_name\n",
    "\n",
    "def get_env_feedback(S,A):\n",
    "    # This is how agent will interact with the environment\n",
    "    if A=='right':\n",
    "        if S==N_STATES-2:\n",
    "            S_='terminal'\n",
    "            R=1\n",
    "        else:\n",
    "            S_=S+1\n",
    "            R=0\n",
    "    else:\n",
    "        R=0\n",
    "        if S ==0:\n",
    "            S_=S\n",
    "        else:\n",
    "            S_=S-1\n",
    "    return S_,R\n",
    "\n",
    "def update_env(S,episode,step_counter):\n",
    "    env_list=['-']*(N_STATES-1)+['T'] # '-----T' our env\n",
    "    if S=='terminal':\n",
    "        interaction='Episode %s: total_steps = %s' % (episode+1,step_counter)\n",
    "        print('\\r{}'.format(interaction),end='')\n",
    "        time.sleep(2)\n",
    "        print('\\r                                                    ',end='')\n",
    "    else:\n",
    "        env_list[S]='o'\n",
    "        interaction=''.join(env_list)\n",
    "        print('\\r{}'.format(interaction),end='')\n",
    "        time.sleep(FRESH_TIME)"
   ]
  },
  {
   "cell_type": "code",
   "execution_count": 3,
   "metadata": {},
   "outputs": [
    {
     "name": "stdout",
     "output_type": "stream",
     "text": [
      "                                                    "
     ]
    }
   ],
   "source": [
    "q_table=build_q_table(N_STATES,ACTIONS)\n",
    "\n",
    "for episode in range(MAX_EPISODES):\n",
    "    step_counter=0\n",
    "    S=0\n",
    "    is_terminated=False\n",
    "    update_env(S,episode,step_counter)\n",
    "    while not is_terminated:\n",
    "        A=choose_action(S,q_table)\n",
    "        \n",
    "        if (A==1): A='right'\n",
    "        elif (A==0): A='left'\n",
    "\n",
    "        S_,R=get_env_feedback(S,A)  # Take action & get next state and reward\n",
    "        q_predict=q_table.loc[S,A]\n",
    "        if S_!='terminal':\n",
    "            q_target=R+LAMBDA*q_table.iloc[S_,:].max()\n",
    "        else:\n",
    "            q_target=R\n",
    "            is_terminated=True\n",
    "\n",
    "        if (A==1): A='right'\n",
    "        elif (A==0): A='left'\n",
    "        else: pass\n",
    "\n",
    "        q_table.loc[S,A]+=ALPHA*(q_target-q_predict)\n",
    "        S=S_\n",
    "\n",
    "        update_env(S,episode,step_counter+1)\n",
    "        step_counter+=1"
   ]
  },
  {
   "cell_type": "code",
   "execution_count": 4,
   "metadata": {},
   "outputs": [
    {
     "data": {
      "text/html": [
       "<div>\n",
       "<style scoped>\n",
       "    .dataframe tbody tr th:only-of-type {\n",
       "        vertical-align: middle;\n",
       "    }\n",
       "\n",
       "    .dataframe tbody tr th {\n",
       "        vertical-align: top;\n",
       "    }\n",
       "\n",
       "    .dataframe thead th {\n",
       "        text-align: right;\n",
       "    }\n",
       "</style>\n",
       "<table border=\"1\" class=\"dataframe\">\n",
       "  <thead>\n",
       "    <tr style=\"text-align: right;\">\n",
       "      <th></th>\n",
       "      <th>left</th>\n",
       "      <th>right</th>\n",
       "    </tr>\n",
       "  </thead>\n",
       "  <tbody>\n",
       "    <tr>\n",
       "      <th>0</th>\n",
       "      <td>0.000001</td>\n",
       "      <td>0.005728</td>\n",
       "    </tr>\n",
       "    <tr>\n",
       "      <th>1</th>\n",
       "      <td>0.000271</td>\n",
       "      <td>0.032612</td>\n",
       "    </tr>\n",
       "    <tr>\n",
       "      <th>2</th>\n",
       "      <td>0.002454</td>\n",
       "      <td>0.111724</td>\n",
       "    </tr>\n",
       "    <tr>\n",
       "      <th>3</th>\n",
       "      <td>0.000073</td>\n",
       "      <td>0.343331</td>\n",
       "    </tr>\n",
       "    <tr>\n",
       "      <th>4</th>\n",
       "      <td>0.000810</td>\n",
       "      <td>0.745813</td>\n",
       "    </tr>\n",
       "    <tr>\n",
       "      <th>5</th>\n",
       "      <td>0.000000</td>\n",
       "      <td>0.000000</td>\n",
       "    </tr>\n",
       "  </tbody>\n",
       "</table>\n",
       "</div>"
      ],
      "text/plain": [
       "       left     right\n",
       "0  0.000001  0.005728\n",
       "1  0.000271  0.032612\n",
       "2  0.002454  0.111724\n",
       "3  0.000073  0.343331\n",
       "4  0.000810  0.745813\n",
       "5  0.000000  0.000000"
      ]
     },
     "execution_count": 4,
     "metadata": {},
     "output_type": "execute_result"
    }
   ],
   "source": [
    "q_table"
   ]
  }
 ],
 "metadata": {
  "kernelspec": {
   "display_name": "Python 3",
   "language": "python",
   "name": "python3"
  },
  "language_info": {
   "codemirror_mode": {
    "name": "ipython",
    "version": 3
   },
   "file_extension": ".py",
   "mimetype": "text/x-python",
   "name": "python",
   "nbconvert_exporter": "python",
   "pygments_lexer": "ipython3",
   "version": "3.10.9"
  },
  "orig_nbformat": 4,
  "vscode": {
   "interpreter": {
    "hash": "b0fa6594d8f4cbf19f97940f81e996739fb7646882a419484c72d19e05852a7e"
   }
  }
 },
 "nbformat": 4,
 "nbformat_minor": 2
}

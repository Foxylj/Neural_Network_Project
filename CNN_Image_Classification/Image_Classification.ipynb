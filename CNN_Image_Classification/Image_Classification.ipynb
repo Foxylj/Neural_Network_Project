{
 "cells": [
  {
   "attachments": {},
   "cell_type": "markdown",
   "metadata": {},
   "source": [
    "# Image Classification"
   ]
  },
  {
   "cell_type": "code",
   "execution_count": 1,
   "metadata": {},
   "outputs": [],
   "source": [
    "import os\n",
    "import matplotlib.pyplot as olt\n",
    "import numpy as np\n",
    "import torch\n",
    "import torch.nn as nn\n",
    "import torch.optim as optim\n",
    "import torchvision\n",
    "from torchvision import transforms,models,datasets\n",
    "import imageio\n",
    "import time\n",
    "import warnings\n",
    "import random\n",
    "import sys\n",
    "import copy\n",
    "import json\n",
    "from PIL import Image"
   ]
  },
  {
   "attachments": {},
   "cell_type": "markdown",
   "metadata": {},
   "source": [
    "### Import Training and Validation Image"
   ]
  },
  {
   "cell_type": "code",
   "execution_count": 2,
   "metadata": {},
   "outputs": [],
   "source": [
    "data_dir='./flower_data/'\n",
    "train_dir=data_dir+'/train'\n",
    "valid_dir=data_dir+'/valid'"
   ]
  },
  {
   "attachments": {},
   "cell_type": "markdown",
   "metadata": {},
   "source": [
    "### Data Pre-Processsing"
   ]
  },
  {
   "cell_type": "code",
   "execution_count": 3,
   "metadata": {},
   "outputs": [],
   "source": [
    "# Data Augmentation\n",
    "data_transforms={\n",
    "    'train':transforms.Compose([transforms.RandomRotation(45),                  # Random Rotation between -45 to +45 degree\n",
    "    transforms.CenterCrop(224),                                                 # Cut from Center, VGG, Resnet\n",
    "    transforms.RandomHorizontalFlip(p=0.5),                                     # Random Horizontal Flip\n",
    "    transforms.RandomVerticalFlip(p=0.5),                                       # Random Vertical Flip\n",
    "    transforms.ColorJitter(brightness=0.2,contrast=0.1,saturation=0.1,hue=0.1), # brightness=0.2,contrast=0.1,saturation=0.1,hue=0.1\n",
    "    transforms.RandomGrayscale(p=0.025),                                        # Probability to get Grayscale\n",
    "    transforms.ToTensor(),\n",
    "    transforms.Normalize([0.458,0.456,0.406],[0.229,0.224,0.225])               # Mean and Var, make sure our data fit other model like VGG Resnet\n",
    "    ]),\n",
    "    'valid':transforms.Compose([transforms.Resize(256),\n",
    "    transforms.CenterCrop(224),                                                 # Cut from Center\n",
    "    transforms.ToTensor(),\n",
    "    transforms.Normalize([0.458,0.456,0.406],[0.229,0.224,0.225])               # Mean and Var\n",
    "    ])\n",
    "}"
   ]
  },
  {
   "cell_type": "code",
   "execution_count": 7,
   "metadata": {},
   "outputs": [],
   "source": [
    "batch_size=8\n",
    "image_datasets={x:datasets.ImageFolder(os.path.join(data_dir,x),data_transforms[x]) for x in ['train', 'valid']} # root=os.path.join(data_dir,x), transforms=data_transforms[x], in ['train', 'valid']\n",
    "dataloaders={x:torch.utils.data.DataLoader(image_datasets[x],batch_size=batch_size,shuffle=True) for x in ['train', 'valid']}\n",
    "dataset_sizes={x:len(image_datasets[x]) for x in ['train', 'valid']}\n",
    "class_name=image_datasets['train'].classes\n",
    "\n",
    "with open ('cat_to_name.json','r') as f: # Read name of flower\n",
    "    cat_to_name=json.load(f)\n"
   ]
  },
  {
   "cell_type": "code",
   "execution_count": 9,
   "metadata": {},
   "outputs": [],
   "source": [
    "def im_convert(tensor):\n",
    "    '''Convert tensor data type back to noraml image data type'''\n",
    "    image = tensor.to('cpu').clone().detach()\n",
    "    image = image.numpy().squeeze()\n",
    "    image = image.transpose(1,2,0)\n",
    "    image = image * np.array((0.229,0.224,0.225))+np.array((0.458,0.456,0.406))\n",
    "    image = image.clip(0,1)\n",
    "    return image"
   ]
  },
  {
   "cell_type": "code",
   "execution_count": null,
   "metadata": {},
   "outputs": [],
   "source": []
  }
 ],
 "metadata": {
  "kernelspec": {
   "display_name": "Python 3",
   "language": "python",
   "name": "python3"
  },
  "language_info": {
   "codemirror_mode": {
    "name": "ipython",
    "version": 3
   },
   "file_extension": ".py",
   "mimetype": "text/x-python",
   "name": "python",
   "nbconvert_exporter": "python",
   "pygments_lexer": "ipython3",
   "version": "3.10.9"
  },
  "orig_nbformat": 4,
  "vscode": {
   "interpreter": {
    "hash": "b0fa6594d8f4cbf19f97940f81e996739fb7646882a419484c72d19e05852a7e"
   }
  }
 },
 "nbformat": 4,
 "nbformat_minor": 2
}
